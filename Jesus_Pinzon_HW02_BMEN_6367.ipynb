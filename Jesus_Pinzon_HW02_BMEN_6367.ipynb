{
  "nbformat": 4,
  "nbformat_minor": 0,
  "metadata": {
    "colab": {
      "provenance": [],
      "authorship_tag": "ABX9TyP44mPyOmr05ssl9Zvaqjs4",
      "include_colab_link": true
    },
    "kernelspec": {
      "name": "python3",
      "display_name": "Python 3"
    },
    "language_info": {
      "name": "python"
    }
  },
  "cells": [
    {
      "cell_type": "markdown",
      "metadata": {
        "id": "view-in-github",
        "colab_type": "text"
      },
      "source": [
        "<a href=\"https://colab.research.google.com/github/JesusPinzon4803/Scientific-Coding-with-Python/blob/main/Jesus_Pinzon_HW02_BMEN_6367.ipynb\" target=\"_parent\"><img src=\"https://colab.research.google.com/assets/colab-badge.svg\" alt=\"Open In Colab\"/></a>"
      ]
    },
    {
      "cell_type": "markdown",
      "source": [
        "#***BMEN 6367.001 HW #02 - CoLab, GitHub, Python Libraries, DFS, and BFS***\n"
      ],
      "metadata": {
        "id": "Bgfnn1AJKo7y"
      }
    },
    {
      "cell_type": "markdown",
      "source": [
        "Q2. 2.\tDemonstrate how to link Google CoLab with your Google Drive and GitHub. Show how to access the folders/files in your Google Drive from Google CoLab. Show how to access the Google Drive folders/files in your GitHub from Google CoLab.   (15 Points)  "
      ],
      "metadata": {
        "id": "B9pkcaZvMkyg"
      }
    },
    {
      "cell_type": "code",
      "execution_count": 1,
      "metadata": {
        "colab": {
          "base_uri": "https://localhost:8080/"
        },
        "id": "UCkeb9hsKT0W",
        "outputId": "11077d9d-6472-4485-8f0b-a58f85508c92"
      },
      "outputs": [
        {
          "output_type": "stream",
          "name": "stdout",
          "text": [
            "Mounted at /content/drive\n"
          ]
        }
      ],
      "source": [
        "''' Link CoLab with Google Drive\n",
        " Connects google drive to colab in a folder called\n",
        " '/content/drive'\n",
        " mount function croms from the imported drive module '''\n",
        "from google.colab import drive\n",
        "drive.mount('/content/drive')\n",
        "\n",
        "\n"
      ]
    }
  ]
}